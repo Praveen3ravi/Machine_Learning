{
  "nbformat": 4,
  "nbformat_minor": 0,
  "metadata": {
    "colab": {
      "name": "Gradient_Descent.ipynb",
      "provenance": [],
      "collapsed_sections": [],
      "authorship_tag": "ABX9TyNjO4fs795Po19DZBoUwoev",
      "include_colab_link": true
    },
    "kernelspec": {
      "name": "python3",
      "display_name": "Python 3"
    },
    "language_info": {
      "name": "python"
    }
  },
  "cells": [
    {
      "cell_type": "markdown",
      "metadata": {
        "id": "view-in-github",
        "colab_type": "text"
      },
      "source": [
        "<a href=\"https://colab.research.google.com/github/Praveen3ravi/Machine_Learning/blob/main/Gradient_Descent.ipynb\" target=\"_parent\"><img src=\"https://colab.research.google.com/assets/colab-badge.svg\" alt=\"Open In Colab\"/></a>"
      ]
    },
    {
      "cell_type": "code",
      "metadata": {
        "id": "v2gZ2s8i1SyL"
      },
      "source": [
        "import numpy as np"
      ],
      "execution_count": 1,
      "outputs": []
    },
    {
      "cell_type": "code",
      "metadata": {
        "id": "5JQSB0LpRIkz"
      },
      "source": [
        "def gradient_descent(x,y):\n",
        "    m_curr = b_curr = 0\n",
        "    iterations = 20\n",
        "    n = len(x)\n",
        "    learning_rate = 0.08\n",
        "\n",
        "    for i in range(iterations):\n",
        "        y_predicted = m_curr * x + b_curr\n",
        "        cost = (1/n) * sum([val**2 for val in (y-y_predicted)])\n",
        "        md = -(2/n)*sum(x*(y-y_predicted))\n",
        "        bd = -(2/n)*sum(y-y_predicted)\n",
        "        m_curr = m_curr - learning_rate * md\n",
        "        b_curr = b_curr - learning_rate * bd\n",
        "        print (\"m {}, b {}, cost {} iteration {}\".format(m_curr,b_curr,cost, i))"
      ],
      "execution_count": 13,
      "outputs": []
    },
    {
      "cell_type": "code",
      "metadata": {
        "colab": {
          "base_uri": "https://localhost:8080/"
        },
        "id": "6Ds2qf-NRM3V",
        "outputId": "ecc90de7-9a37-4d32-cf06-6bc5eb24245c"
      },
      "source": [
        "x = np.array([1,2,3,4,5])\n",
        "y = np.array([5,7,9,11,13])\n",
        "gradient_descent(x,y)"
      ],
      "execution_count": 14,
      "outputs": [
        {
          "output_type": "stream",
          "name": "stdout",
          "text": [
            "m 4.96, b 1.44, cost 89.0 iteration 0\n",
            "m 0.4991999999999983, b 0.26879999999999993, cost 71.10560000000002 iteration 1\n",
            "m 4.451584000000002, b 1.426176000000001, cost 56.8297702400001 iteration 2\n",
            "m 0.892231679999997, b 0.5012275199999995, cost 45.43965675929613 iteration 3\n",
            "m 4.041314713600002, b 1.432759910400001, cost 36.35088701894832 iteration 4\n",
            "m 1.2008760606719973, b 0.7036872622079998, cost 29.097483330142282 iteration 5\n",
            "m 3.7095643080294423, b 1.4546767911321612, cost 23.307872849944438 iteration 6\n",
            "m 1.4424862661541864, b 0.881337636696883, cost 18.685758762535738 iteration 7\n",
            "m 3.4406683721083144, b 1.4879302070713722, cost 14.994867596913156 iteration 8\n",
            "m 1.6308855378034224, b 1.0383405553279617, cost 12.046787238456794 iteration 9\n",
            "m 3.2221235247119777, b 1.5293810083298451, cost 9.691269350698109 iteration 10\n",
            "m 1.7770832372205707, b 1.1780607551353204, cost 7.8084968312098315 iteration 11\n",
            "m 3.0439475772474127, b 1.5765710804477953, cost 6.302918117062937 iteration 12\n",
            "m 1.8898457226770244, b 1.3032248704973899, cost 5.098330841763168 iteration 13\n",
            "m 2.898169312926714, b 1.6275829443328358, cost 4.133961682056365 iteration 14\n",
            "m 1.9761515088959358, b 1.4160484030347593, cost 3.361340532576948 iteration 15\n",
            "m 2.7784216197824048, b 1.6809279342791488, cost 2.741808050753047 iteration 16\n",
            "m 2.0415541605113807, b 1.5183370872989306, cost 2.244528230107478 iteration 17\n",
            "m 2.6796170361078637, b 1.735457156285639, cost 1.8449036666988363 iteration 18\n",
            "m 2.090471617540917, b 1.611567833948162, cost 1.5233119201782324 iteration 19\n"
          ]
        }
      ]
    }
  ]
}